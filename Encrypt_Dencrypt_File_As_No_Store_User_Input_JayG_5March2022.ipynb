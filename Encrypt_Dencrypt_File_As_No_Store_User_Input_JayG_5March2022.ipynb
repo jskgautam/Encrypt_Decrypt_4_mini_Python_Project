{
 "cells": [
  {
   "cell_type": "markdown",
   "metadata": {},
   "source": [
    " <b>Author: Jay Gautam, Darmstadt Germany, 6 March 2022.</b>"
   ]
  },
  {
   "cell_type": "markdown",
   "metadata": {},
   "source": [
    "# Encryption and Dencryption algorithm.\n",
    "\n",
    "-> Shift each character by certain number. \\\n",
    "-> Required standard functions to implemetn the algorithm.\\\n",
    "        1. ord()-> retruns the unicode of the character. Ex: ord('a') = 97, ord('A') = 65. a-z = [97, 122] A-Z= [65, 90]\n",
    "        2. chr()-> retruns the character value of the unicode=> reverse of ord(). Ex ord(65) = A\n",
    "        3. % -> modulo. It returns the remainder. 5%2 = 1.\n",
    "\n",
    "<b>Rules and formula of the algorithm for the encryption (Note: Be careful: shifting last few letters of alphabet, because it has to start from the beginning again.) </b>\n",
    "1. Space, number or special character will not be changed. Only uppercase and lowercase alphabets will be encrypted.\n",
    "2. Encryption: If uppercase letter: Find the corresponding encrypted character and add it to the encrypted string. \\\n",
    "   Uppercase: Formula: chr(((ord(char) + step - 65) % 26) + 65).   \n",
    "   where ord('A') = 65, 26 = number of uppercase letters\n",
    "3. Encryption: If lowercase letter: Find the corresponding encrypted character and add it to the encrypted string. \\\n",
    "   Lowercase: Formula: chr(((ord(char) + step - 97) % 26) + 65) \\\n",
    "   where ord('a') = 97, 26 = number of lowercase letters\n",
    "   \n",
    "4. Dencryption: If uppercase letter: Find the corresponding encrypted character and add it to the encrypted string. \\\n",
    "   Uppercase: Formula: chr(((ord(char) - step - 65) % 26) + 65).   \n",
    "   where ord('A') = 65, 26 = number of uppercase letters\n",
    "6. Dencryption: If lowercase letter: Find the corresponding encrypted character and add it to the encrypted string. \\\n",
    "   Lowercase: Formula: chr(((ord(char) - step - 97) % 26) + 65) \\\n",
    "   where ord('a') = 97, 26 = number of lowercase letters\n",
    "\n",
    "<b>How to run the code:\\</b>\n",
    "\n",
    "1. Run the code -> Provide the message to be encrypted and provide the number of steps in integer, such as 2, 5, 20, etc.\n",
    "2. It will return an encrypted file of the users input in the same directory with file name \"encrpyted_message2.txt\".\n"
   ]
  },
  {
   "cell_type": "code",
   "execution_count": 1,
   "metadata": {},
   "outputs": [],
   "source": [
    "# function for Encryption algorithm\n",
    "\n",
    "def encrpyt_message(text, step):\n",
    "    encrypted_string = \"\" # empty string intially\n",
    "    \n",
    "    for char in text:\n",
    "        if not char.isalpha(): # check for space, number or special character\n",
    "            encrypted_string += char\n",
    "        elif char.isupper(): # test for uppercase\n",
    "            encrypted_string += chr((((ord(char) + step) -65) % 26) + 65)\n",
    "        else: # formulae for lowercase\n",
    "            encrypted_string += chr((((ord(char) + step) -97) % 26) + 97)\n",
    "    \n",
    "    return encrypted_string\n",
    "\n",
    "# function for Decryption algorithm.  This function will decrypt the encrypted function.\n",
    "# .. its like undoing the previous process to get the original message.\n",
    "\n",
    "def decrypt_message(text, step):\n",
    "    decrypted_str = \"\" # empty string intially\n",
    "    \n",
    "    for char in text:\n",
    "        if not char.isalpha():\n",
    "            decrypted_str += char\n",
    "        elif char.isupper():\n",
    "            decrypted_str += chr((((ord(char) - step) -65) % 26) + 65) # only the step is reversed.\n",
    "        else:\n",
    "            decrypted_str += chr((((ord(char) - step) -97) % 26) + 97) # only the step is reversed.\n",
    "    \n",
    "    return decrypted_str\n",
    "         "
   ]
  },
  {
   "cell_type": "code",
   "execution_count": null,
   "metadata": {},
   "outputs": [],
   "source": []
  },
  {
   "cell_type": "code",
   "execution_count": 2,
   "metadata": {},
   "outputs": [
    {
     "name": "stdout",
     "output_type": "stream",
     "text": [
      "Please enter the message: The AI technology is the most fastest growing technology!\n",
      "Now enter the steps in integeral values: 2\n",
      "The encrypted message is: \n",
      " Vjg CK vgejpqnqia ku vjg oquv hcuvguv itqykpi vgejpqnqia!\n",
      "\n",
      "The original message is: \n",
      " The AI technology is the most fastest growing technology!\n"
     ]
    }
   ],
   "source": [
    "# Programm: encrypt and deencrypt the file. Encrypt the content of a file, and again dencrypt it.\n",
    "\n",
    "def save_the_message(message, file_name): # store the user message to a file.\n",
    "    with open(file_name, \"w\") as file:\n",
    "        file.write(message)\n",
    "\n",
    "def read_from_file(file_name): # read the data from the file.\n",
    "    with open(file_name) as file:\n",
    "        message = file.read()\n",
    "    return message\n",
    "\n",
    "# Read data from mesaage file-> Encrypt this message -> Save the encrypted message to a file by assigning the file name.\n",
    "#file_content = read_from_file(\"Jay_Encrypt.txt\") # message file: Jay_Encrypt.txt\n",
    "\n",
    "input_message = input(\"Please enter the message: \")\n",
    "step = int(input(\"Now enter the steps in integeral values: \")) # it should be integer\n",
    "\n",
    "encrpyted_message = encrpyt_message(input_message, step)\n",
    "print(\"The encrypted message is: \\n\", encrpyted_message)\n",
    "save_the_message(encrpyted_message, \"encrpyted_message1.txt\") # the file encrpyted_message.txt will be saved in same folder\n",
    "\n",
    "print()\n",
    "\n",
    "# Read the encrypted message from the encrypted file \"encrpyted_message.txt\" -> Dencrpyt the whole file.\n",
    "message_from_file = read_from_file(\"encrpyted_message1.txt\")\n",
    "dencrpyted_message = decrypt_message(encrpyted_message, step)\n",
    "print(\"The original message is: \\n\", dencrpyted_message)\n",
    "\n"
   ]
  },
  {
   "cell_type": "code",
   "execution_count": null,
   "metadata": {},
   "outputs": [],
   "source": []
  }
 ],
 "metadata": {
  "kernelspec": {
   "display_name": "Python 3",
   "language": "python",
   "name": "python3"
  },
  "language_info": {
   "codemirror_mode": {
    "name": "ipython",
    "version": 3
   },
   "file_extension": ".py",
   "mimetype": "text/x-python",
   "name": "python",
   "nbconvert_exporter": "python",
   "pygments_lexer": "ipython3",
   "version": "3.8.3"
  },
  "toc": {
   "base_numbering": 1,
   "nav_menu": {},
   "number_sections": true,
   "sideBar": true,
   "skip_h1_title": false,
   "title_cell": "Table of Contents",
   "title_sidebar": "Contents",
   "toc_cell": false,
   "toc_position": {},
   "toc_section_display": true,
   "toc_window_display": false
  }
 },
 "nbformat": 4,
 "nbformat_minor": 4
}
