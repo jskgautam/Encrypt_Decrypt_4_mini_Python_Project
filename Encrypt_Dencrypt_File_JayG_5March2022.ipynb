{
 "cells": [
  {
   "cell_type": "markdown",
   "metadata": {},
   "source": [
    " <b>Author: Jay Gautam, Darmstadt Germany, 6 March 2022.</b>"
   ]
  },
  {
   "cell_type": "markdown",
   "metadata": {},
   "source": [
    "# Encryption and Dencryption algorithm.\n",
    "\n",
    "-> Shift each character by certain number. \\\n",
    "-> Required standard functions to implemetn the algorithm.\\\n",
    "        1. ord()-> retruns the unicode of the character. Ex: ord('a') = 97, ord('A') = 65. a-z = [97, 122] A-Z= [65, 90]\n",
    "        2. chr()-> retruns the character value of the unicode=> reverse of ord(). Ex ord(65) = A\n",
    "        3. % -> modulo. It returns the remainder. 5%2 = 1.\n",
    "\n",
    "<b>Rules and formula of the algorithm for the encryption (Note: Be careful: shifting last few letters of alphabet, because it has to start from the beginning again.) </b>\n",
    "1. Space, number or special character will not be changed. Only uppercase and lowercase alphabets will be encrypted.\n",
    "2. Encryption: If uppercase letter: Find the corresponding encrypted character and add it to the encrypted string. \\\n",
    "   Uppercase: Formula: chr(((ord(char) + step - 65) % 26) + 65).   \n",
    "   where ord('A') = 65, 26 = number of uppercase letters\n",
    "3. Encryption: If lowercase letter: Find the corresponding encrypted character and add it to the encrypted string. \\\n",
    "   Lowercase: Formula: chr(((ord(char) + step - 97) % 26) + 65) \\\n",
    "   where ord('a') = 97, 26 = number of lowercase letters\n",
    "   \n",
    "4. Dencryption: If uppercase letter: Find the corresponding encrypted character and add it to the encrypted string. \\\n",
    "   Uppercase: Formula: chr(((ord(char) - step - 65) % 26) + 65).   \n",
    "   where ord('A') = 65, 26 = number of uppercase letters\n",
    "6. Dencryption: If lowercase letter: Find the corresponding encrypted character and add it to the encrypted string. \\\n",
    "   Lowercase: Formula: chr(((ord(char) - step - 97) % 26) + 65) \\\n",
    "   where ord('a') = 97, 26 = number of lowercase letters\n",
    "\n",
    "<b>How to run the code:\\</b>\n",
    "1. Make a text file with name \"filename.txt\" in the same folder of jupyter notebook. Add any message to this file.\n",
    "2. Run the code. You will have a output file named as \"encrpyted_message.txt\" in the same folder. This file has the encrypted message.\n"
   ]
  },
  {
   "cell_type": "markdown",
   "metadata": {},
   "source": [
    "# Implementation."
   ]
  },
  {
   "cell_type": "code",
   "execution_count": 1,
   "metadata": {},
   "outputs": [],
   "source": [
    "# function for Encryption algorithm\n",
    "\n",
    "def encrpyt_message(text, step):\n",
    "    encrypted_string = \"\" # empty string intially\n",
    "    \n",
    "    for char in text:\n",
    "        if not char.isalpha(): # check for space, number or special character\n",
    "            encrypted_string += char\n",
    "        elif char.isupper(): # test for uppercase\n",
    "            encrypted_string += chr((((ord(char) + step) -65) % 26) + 65)\n",
    "        else: # formulae for lowercase\n",
    "            encrypted_string += chr((((ord(char) + step) -97) % 26) + 97)\n",
    "    \n",
    "    return encrypted_string\n",
    "\n",
    "# function for Decryption algorithm.  This function will decrypt the encrypted function.\n",
    "# .. its like undoing the previous process to get the original message.\n",
    "\n",
    "def decrypt_message(text, step):\n",
    "    decrypted_str = \"\" # empty string intially\n",
    "    \n",
    "    for char in text:\n",
    "        if not char.isalpha():\n",
    "            decrypted_str += char\n",
    "        elif char.isupper():\n",
    "            decrypted_str += chr((((ord(char) - step) -65) % 26) + 65) # only the step is reversed.\n",
    "        else:\n",
    "            decrypted_str += chr((((ord(char) - step) -97) % 26) + 97) # only the step is reversed.\n",
    "    \n",
    "    return decrypted_str\n",
    "    \n",
    "         "
   ]
  },
  {
   "cell_type": "code",
   "execution_count": null,
   "metadata": {},
   "outputs": [],
   "source": []
  },
  {
   "cell_type": "code",
   "execution_count": 2,
   "metadata": {},
   "outputs": [
    {
     "name": "stdout",
     "output_type": "stream",
     "text": [
      "The encrypted message is: \n",
      " Evi csy rsx cix e gshiv? Evi csy xvcmrk xs fi e gshiv? Evi csy epviehc e kssh gshiv? Ercxlmrk csy evi! Ercxlmrk csy aerx xs fi! Tpegi alivi csy evi xvcmrk xs viegl, xlivi mw epviehc wsqisri wsqialivi, csy ger izir ks ficsrh. Kixxmrk xlivi qec fi jewx sv qec xeoi e pmxxpi psrkiv. Fyx epaecw xipp csyvwipj, csy ger- mx mw rsx e jeoi wxexiqirx sv hipywmsr xs csy fc csyvwipj, mx mw xli efwspyxi xvyxl- csy evi vieppc getefpi! Rsxlmrk mw fmkkiv xler csy!\n",
      "\n",
      "Mr imxliv sj xli gewiw- tpiewi xeoi gevi sj csyv tlcwmgep erh qirxep liepxl amxl xli lmkliwx tvmsvmxc amxlsyx erc gsqtvsqmwi, sxlivamwi, rsxlmrk ampp fi levqsrmsyw izir mj csy evi fmk, e zivc fmk sri ex csyv hvieq tpegi!\n",
      "\n",
      "Tpiewi gligo qc Pmroihmr tswxw jsv sxliv ywijyp/mrxiviwxmrk evxmgpiw erh gshiw vipexih xs EM/QP erh Tcxlsr- cix, qerc qsvi xs gsqi.\n",
      "\n",
      "#viwtigxcsyvwipj #yrhivwxerh #qirxepliepxl #liepxl\n",
      "\n",
      "The original message is: \n",
      " Are you not yet a coder? Are you trying to be a coder? Are you already a good coder? Anything you are! Anything you want to be! Place where you are trying to reach, there is already someone somewhere, you can even go beyond. Getting there may be fast or may take a little longer. But always tell yourself, you can- it is not a fake statement or delusion to you by yourself, it is the absolute truth- you are really capable! Nothing is bigger than you!\n",
      "\n",
      "In either of the cases- please take care of your physical and mental health with the highest priority without any compromise, otherwise, nothing will be harmonious even if you are big, a very big one at your dream place!\n",
      "\n",
      "Please check my Linkedin posts for other useful/interesting articles and codes related to AI/ML and Python- yet, many more to come.\n",
      "\n",
      "#respectyourself #understand #mentalhealth #health\n"
     ]
    }
   ],
   "source": [
    "# Programm: encrypt and deencrypt the file. Encrypt the content of a file, and again dencrypt it.\n",
    "\n",
    "def save_the_message(message, file_name): # store the user message to a file.\n",
    "    with open(file_name, \"w\") as file:\n",
    "        file.write(message)\n",
    "\n",
    "def read_from_file(file_name): # read the data from the file.\n",
    "    with open(file_name) as file:\n",
    "        message = file.read()\n",
    "    return message\n",
    "\n",
    "# Read data from mesaage file-> Encrypt this message -> Save the encrypted message to a file by assigning the file name.\n",
    "file_content = read_from_file(\"file_Name.txt\") # message file: Jay_Encrypt.txt\n",
    "encrpyted_message = encrpyt_message(file_content, 4)\n",
    "print(\"The encrypted message is: \\n\", encrpyted_message)\n",
    "save_the_message(encrpyted_message, \"encrpyted_message2.txt\") # the file encrpyted_message.txt will be saved in same folder\n",
    "\n",
    "print()\n",
    "\n",
    "# Read the encrypted message from the encrypted file \"encrpyted_message.txt\" -> Dencrpyt the whole file.\n",
    "message_from_file = read_from_file(\"encrpyted_message2.txt\")\n",
    "dencrpyted_message = decrypt_message(encrpyted_message, 4)\n",
    "print(\"The original message is: \\n\", dencrpyted_message)\n",
    "\n"
   ]
  },
  {
   "cell_type": "code",
   "execution_count": null,
   "metadata": {},
   "outputs": [],
   "source": []
  }
 ],
 "metadata": {
  "kernelspec": {
   "display_name": "Python 3",
   "language": "python",
   "name": "python3"
  },
  "language_info": {
   "codemirror_mode": {
    "name": "ipython",
    "version": 3
   },
   "file_extension": ".py",
   "mimetype": "text/x-python",
   "name": "python",
   "nbconvert_exporter": "python",
   "pygments_lexer": "ipython3",
   "version": "3.8.3"
  },
  "toc": {
   "base_numbering": 1,
   "nav_menu": {},
   "number_sections": true,
   "sideBar": true,
   "skip_h1_title": false,
   "title_cell": "Table of Contents",
   "title_sidebar": "Contents",
   "toc_cell": false,
   "toc_position": {},
   "toc_section_display": true,
   "toc_window_display": false
  }
 },
 "nbformat": 4,
 "nbformat_minor": 4
}
